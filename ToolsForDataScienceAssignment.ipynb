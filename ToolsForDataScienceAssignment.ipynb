{
  "metadata": {
    "language_info": {
      "codemirror_mode": {
        "name": "python",
        "version": 3
      },
      "file_extension": ".py",
      "mimetype": "text/x-python",
      "name": "python",
      "nbconvert_exporter": "python",
      "pygments_lexer": "ipython3",
      "version": "3.8"
    },
    "kernelspec": {
      "name": "python",
      "display_name": "Python (Pyodide)",
      "language": "python"
    }
  },
  "nbformat_minor": 4,
  "nbformat": 4,
  "cells": [
    {
      "cell_type": "markdown",
      "source": "My Data Science Notebook",
      "metadata": {}
    },
    {
      "cell_type": "markdown",
      "source": "My name is Aarush Singh and I love the world of data science. I will now be listing data science languages libraries, and tools.",
      "metadata": {}
    },
    {
      "cell_type": "markdown",
      "source": "List of Data Science Languages:",
      "metadata": {}
    },
    {
      "cell_type": "markdown",
      "source": "Python, Java, SQL, C, C++, R, Julia, JavaScript, MATLAB, Scala, SAS",
      "metadata": {}
    },
    {
      "cell_type": "markdown",
      "source": "List of Data Science Libraries:",
      "metadata": {}
    },
    {
      "cell_type": "markdown",
      "source": "Scikit-learn, TensorFlow, PyTorch, Theano, NumPy, Matplotlib, Pandas, PyBrain, Caffe2, Scrapy",
      "metadata": {}
    },
    {
      "cell_type": "markdown",
      "source": "| Tool            | Description                                   |\n|-----------------|-----------------------------------------------|\n| Jupyter Notebook| Interactive coding and documentation platform  |\n| Apache Spark    | Distributed data processing framework         |\n| Tableau         | Data visualization and analytics tool         |\n| KNIME           | Data analytics and reporting platform         |\n| RapidMiner      | Predictive analytics and data mining tool     |",
      "metadata": {}
    },
    {
      "cell_type": "markdown",
      "source": "Arithmetic expressions are fundamental in mathematics and programming, allowing us to perform calculations and manipulate numerical values. In the examples below, we explore various arithmetic expressions that involve addition, subtraction, multiplication, and division operations.\n",
      "metadata": {}
    },
    {
      "cell_type": "code",
      "source": "# Multiply and add numbers\nnum1 = 5\nnum2 = 10\n\nmultiplication_result = num1 * num2\naddition_result = num1 + num2\n\nprint(\"Multiplication Result:\", multiplication_result)\nprint(\"Addition Result:\", addition_result)",
      "metadata": {
        "trusted": true
      },
      "execution_count": 2,
      "outputs": [
        {
          "name": "stdout",
          "text": "Multiplication Result: 50\nAddition Result: 15\n",
          "output_type": "stream"
        }
      ]
    },
    {
      "cell_type": "code",
      "source": "minutes = 120\n\nhours = minutes / 60\n\nprint(\"Minutes:\", minutes)\nprint(\"Hours:\", hours)",
      "metadata": {
        "trusted": true
      },
      "execution_count": 3,
      "outputs": [
        {
          "name": "stdout",
          "text": "Minutes: 120\nHours: 2.0\n",
          "output_type": "stream"
        }
      ]
    },
    {
      "cell_type": "markdown",
      "source": "Unordered lists are a useful way to present information in a bullet-point format without any particular order or hierarchy. They allow for easy readability and organization of related items. In the example below, we have an unordered list that highlights some key features of data science:\n\n- Data collection and preprocessing\n- Exploratory data analysis\n- Machine learning algorithms\n- Data visualization techniques\n- Model evaluation and optimization",
      "metadata": {}
    },
    {
      "cell_type": "markdown",
      "source": "Author: Aarush Singh",
      "metadata": {}
    },
    {
      "cell_type": "code",
      "source": "",
      "metadata": {},
      "execution_count": null,
      "outputs": []
    }
  ]
}